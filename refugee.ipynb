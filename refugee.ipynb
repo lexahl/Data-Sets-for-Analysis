{
 "cells": [
  {
   "cell_type": "code",
   "execution_count": 1,
   "metadata": {},
   "outputs": [
    {
     "name": "stderr",
     "output_type": "stream",
     "text": [
      "── Attaching packages ─────────────────────────────────────── tidyverse 1.2.1 ──\n",
      "✔ ggplot2 3.2.1     ✔ purrr   0.3.3\n",
      "✔ tibble  2.1.3     ✔ dplyr   0.8.3\n",
      "✔ tidyr   1.0.0     ✔ stringr 1.4.0\n",
      "✔ readr   1.3.1     ✔ forcats 0.4.0\n",
      "── Conflicts ────────────────────────────────────────── tidyverse_conflicts() ──\n",
      "✖ dplyr::filter() masks stats::filter()\n",
      "✖ dplyr::lag()    masks stats::lag()\n",
      "\n",
      "Attaching package: ‘testthat’\n",
      "\n",
      "The following object is masked from ‘package:dplyr’:\n",
      "\n",
      "    matches\n",
      "\n",
      "The following object is masked from ‘package:purrr’:\n",
      "\n",
      "    is_null\n",
      "\n",
      "The following object is masked from ‘package:tidyr’:\n",
      "\n",
      "    matches\n",
      "\n"
     ]
    }
   ],
   "source": [
    "library(repr)\n",
    "library(tidyverse)\n",
    "library(testthat)\n",
    "library(digest)\n",
    "library(dplyr)"
   ]
  },
  {
   "cell_type": "code",
   "execution_count": 2,
   "metadata": {},
   "outputs": [
    {
     "name": "stderr",
     "output_type": "stream",
     "text": [
      "Installing package into ‘/home/jupyter/R/x86_64-pc-linux-gnu-library/3.5’\n",
      "(as ‘lib’ is unspecified)\n"
     ]
    }
   ],
   "source": [
    "install.packages(\"ggmap\")"
   ]
  },
  {
   "cell_type": "code",
   "execution_count": 3,
   "metadata": {},
   "outputs": [
    {
     "name": "stderr",
     "output_type": "stream",
     "text": [
      "Google's Terms of Service: https://cloud.google.com/maps-platform/terms/.\n",
      "Please cite ggmap if you use it! See citation(\"ggmap\") for details.\n"
     ]
    }
   ],
   "source": [
    "library(ggmap)"
   ]
  },
  {
   "cell_type": "code",
   "execution_count": 4,
   "metadata": {},
   "outputs": [
    {
     "name": "stderr",
     "output_type": "stream",
     "text": [
      "Parsed with column specification:\n",
      "cols(\n",
      "  Year = col_double(),\n",
      "  `Country / territory of asylum/residence` = col_character(),\n",
      "  Origin = col_character(),\n",
      "  `Refugees (incl. refugee-like situations)` = col_double(),\n",
      "  `Asylum-seekers (pending cases)` = col_double()\n",
      ")\n",
      "Warning message:\n",
      "“4198 parsing failures.\n",
      "  row                                      col expected actual                file\n",
      "52078 Asylum-seekers (pending cases)           a double      * '2010-2018data.csv'\n",
      "52081 Refugees (incl. refugee-like situations) a double      * '2010-2018data.csv'\n",
      "52084 Refugees (incl. refugee-like situations) a double      * '2010-2018data.csv'\n",
      "52085 Asylum-seekers (pending cases)           a double      * '2010-2018data.csv'\n",
      "52086 Asylum-seekers (pending cases)           a double      * '2010-2018data.csv'\n",
      "..... ........................................ ........ ...... ...................\n",
      "See problems(...) for more details.\n",
      "”"
     ]
    }
   ],
   "source": [
    "data <- read_csv(\"2010-2018data.csv\",col_names = TRUE, skip=2)\n",
    "data <- na.omit(data) \n",
    "colnames(data) = c(\"year\",\"destination\",\"origin\",\"refuge\",\"asylum\")"
   ]
  },
  {
   "cell_type": "code",
   "execution_count": 5,
   "metadata": {},
   "outputs": [
    {
     "data": {
      "text/html": [
       "<table>\n",
       "<thead><tr><th scope=col>year</th><th scope=col>destination</th><th scope=col>origin</th><th scope=col>refuge</th><th scope=col>asylum</th></tr></thead>\n",
       "<tbody>\n",
       "\t<tr><td>2010                  </td><td>Afghanistan           </td><td>Iran (Islamic Rep. of)</td><td>   30                 </td><td>  21                  </td></tr>\n",
       "\t<tr><td>2010                  </td><td>Afghanistan           </td><td>Pakistan              </td><td> 6398                 </td><td>   9                  </td></tr>\n",
       "\t<tr><td>2010                  </td><td>Angola                </td><td>Burundi               </td><td>   14                 </td><td>  13                  </td></tr>\n",
       "\t<tr><td>2010                  </td><td>Angola                </td><td>Central African Rep.  </td><td>    6                 </td><td>   1                  </td></tr>\n",
       "\t<tr><td>2010                  </td><td>Angola                </td><td>Côte d'Ivoire         </td><td>  211                 </td><td>1213                  </td></tr>\n",
       "\t<tr><td>2010                  </td><td>Angola                </td><td>Dem. Rep. of the Congo</td><td>13648                 </td><td>1508                  </td></tr>\n",
       "</tbody>\n",
       "</table>\n"
      ],
      "text/latex": [
       "\\begin{tabular}{r|lllll}\n",
       " year & destination & origin & refuge & asylum\\\\\n",
       "\\hline\n",
       "\t 2010                   & Afghanistan            & Iran (Islamic Rep. of) &    30                  &   21                  \\\\\n",
       "\t 2010                   & Afghanistan            & Pakistan               &  6398                  &    9                  \\\\\n",
       "\t 2010                   & Angola                 & Burundi                &    14                  &   13                  \\\\\n",
       "\t 2010                   & Angola                 & Central African Rep.   &     6                  &    1                  \\\\\n",
       "\t 2010                   & Angola                 & Côte d'Ivoire          &   211                  & 1213                  \\\\\n",
       "\t 2010                   & Angola                 & Dem. Rep. of the Congo & 13648                  & 1508                  \\\\\n",
       "\\end{tabular}\n"
      ],
      "text/markdown": [
       "\n",
       "year | destination | origin | refuge | asylum | \n",
       "|---|---|---|---|---|---|\n",
       "| 2010                   | Afghanistan            | Iran (Islamic Rep. of) |    30                  |   21                   | \n",
       "| 2010                   | Afghanistan            | Pakistan               |  6398                  |    9                   | \n",
       "| 2010                   | Angola                 | Burundi                |    14                  |   13                   | \n",
       "| 2010                   | Angola                 | Central African Rep.   |     6                  |    1                   | \n",
       "| 2010                   | Angola                 | Côte d'Ivoire          |   211                  | 1213                   | \n",
       "| 2010                   | Angola                 | Dem. Rep. of the Congo | 13648                  | 1508                   | \n",
       "\n",
       "\n"
      ],
      "text/plain": [
       "  year destination origin                 refuge asylum\n",
       "1 2010 Afghanistan Iran (Islamic Rep. of)    30    21  \n",
       "2 2010 Afghanistan Pakistan                6398     9  \n",
       "3 2010 Angola      Burundi                   14    13  \n",
       "4 2010 Angola      Central African Rep.       6     1  \n",
       "5 2010 Angola      Côte d'Ivoire            211  1213  \n",
       "6 2010 Angola      Dem. Rep. of the Congo 13648  1508  "
      ]
     },
     "metadata": {},
     "output_type": "display_data"
    }
   ],
   "source": [
    "head(data)"
   ]
  },
  {
   "cell_type": "code",
   "execution_count": 6,
   "metadata": {},
   "outputs": [
    {
     "data": {
      "text/html": [
       "<dl>\n",
       "\t<dt>$year</dt>\n",
       "\t\t<dd>'numeric'</dd>\n",
       "\t<dt>$destination</dt>\n",
       "\t\t<dd>'character'</dd>\n",
       "\t<dt>$origin</dt>\n",
       "\t\t<dd>'character'</dd>\n",
       "\t<dt>$refuge</dt>\n",
       "\t\t<dd>'numeric'</dd>\n",
       "\t<dt>$asylum</dt>\n",
       "\t\t<dd>'numeric'</dd>\n",
       "</dl>\n"
      ],
      "text/latex": [
       "\\begin{description}\n",
       "\\item[\\$year] 'numeric'\n",
       "\\item[\\$destination] 'character'\n",
       "\\item[\\$origin] 'character'\n",
       "\\item[\\$refuge] 'numeric'\n",
       "\\item[\\$asylum] 'numeric'\n",
       "\\end{description}\n"
      ],
      "text/markdown": [
       "$year\n",
       ":   'numeric'\n",
       "$destination\n",
       ":   'character'\n",
       "$origin\n",
       ":   'character'\n",
       "$refuge\n",
       ":   'numeric'\n",
       "$asylum\n",
       ":   'numeric'\n",
       "\n",
       "\n"
      ],
      "text/plain": [
       "$year\n",
       "[1] \"numeric\"\n",
       "\n",
       "$destination\n",
       "[1] \"character\"\n",
       "\n",
       "$origin\n",
       "[1] \"character\"\n",
       "\n",
       "$refuge\n",
       "[1] \"numeric\"\n",
       "\n",
       "$asylum\n",
       "[1] \"numeric\"\n"
      ]
     },
     "metadata": {},
     "output_type": "display_data"
    }
   ],
   "source": [
    "lapply(data,class)"
   ]
  },
  {
   "cell_type": "code",
   "execution_count": 7,
   "metadata": {},
   "outputs": [],
   "source": [
    "data <- data %>%\n",
    "    mutate(total = refuge + asylum) %>%\n",
    "    filter(total > 0)"
   ]
  },
  {
   "cell_type": "code",
   "execution_count": 8,
   "metadata": {},
   "outputs": [
    {
     "data": {
      "text/html": [
       "<table>\n",
       "<thead><tr><th scope=col>year</th><th scope=col>destination</th><th scope=col>origin</th><th scope=col>refuge</th><th scope=col>asylum</th><th scope=col>total</th></tr></thead>\n",
       "<tbody>\n",
       "\t<tr><td>2010                  </td><td>Afghanistan           </td><td>Iran (Islamic Rep. of)</td><td>   30                 </td><td>  21                  </td><td>   51                 </td></tr>\n",
       "\t<tr><td>2010                  </td><td>Afghanistan           </td><td>Pakistan              </td><td> 6398                 </td><td>   9                  </td><td> 6407                 </td></tr>\n",
       "\t<tr><td>2010                  </td><td>Angola                </td><td>Burundi               </td><td>   14                 </td><td>  13                  </td><td>   27                 </td></tr>\n",
       "\t<tr><td>2010                  </td><td>Angola                </td><td>Central African Rep.  </td><td>    6                 </td><td>   1                  </td><td>    7                 </td></tr>\n",
       "\t<tr><td>2010                  </td><td>Angola                </td><td>Côte d'Ivoire         </td><td>  211                 </td><td>1213                  </td><td> 1424                 </td></tr>\n",
       "\t<tr><td>2010                  </td><td>Angola                </td><td>Dem. Rep. of the Congo</td><td>13648                 </td><td>1508                  </td><td>15156                 </td></tr>\n",
       "</tbody>\n",
       "</table>\n"
      ],
      "text/latex": [
       "\\begin{tabular}{r|llllll}\n",
       " year & destination & origin & refuge & asylum & total\\\\\n",
       "\\hline\n",
       "\t 2010                   & Afghanistan            & Iran (Islamic Rep. of) &    30                  &   21                   &    51                 \\\\\n",
       "\t 2010                   & Afghanistan            & Pakistan               &  6398                  &    9                   &  6407                 \\\\\n",
       "\t 2010                   & Angola                 & Burundi                &    14                  &   13                   &    27                 \\\\\n",
       "\t 2010                   & Angola                 & Central African Rep.   &     6                  &    1                   &     7                 \\\\\n",
       "\t 2010                   & Angola                 & Côte d'Ivoire          &   211                  & 1213                   &  1424                 \\\\\n",
       "\t 2010                   & Angola                 & Dem. Rep. of the Congo & 13648                  & 1508                   & 15156                 \\\\\n",
       "\\end{tabular}\n"
      ],
      "text/markdown": [
       "\n",
       "year | destination | origin | refuge | asylum | total | \n",
       "|---|---|---|---|---|---|\n",
       "| 2010                   | Afghanistan            | Iran (Islamic Rep. of) |    30                  |   21                   |    51                  | \n",
       "| 2010                   | Afghanistan            | Pakistan               |  6398                  |    9                   |  6407                  | \n",
       "| 2010                   | Angola                 | Burundi                |    14                  |   13                   |    27                  | \n",
       "| 2010                   | Angola                 | Central African Rep.   |     6                  |    1                   |     7                  | \n",
       "| 2010                   | Angola                 | Côte d'Ivoire          |   211                  | 1213                   |  1424                  | \n",
       "| 2010                   | Angola                 | Dem. Rep. of the Congo | 13648                  | 1508                   | 15156                  | \n",
       "\n",
       "\n"
      ],
      "text/plain": [
       "  year destination origin                 refuge asylum total\n",
       "1 2010 Afghanistan Iran (Islamic Rep. of)    30    21      51\n",
       "2 2010 Afghanistan Pakistan                6398     9    6407\n",
       "3 2010 Angola      Burundi                   14    13      27\n",
       "4 2010 Angola      Central African Rep.       6     1       7\n",
       "5 2010 Angola      Côte d'Ivoire            211  1213    1424\n",
       "6 2010 Angola      Dem. Rep. of the Congo 13648  1508   15156"
      ]
     },
     "metadata": {},
     "output_type": "display_data"
    }
   ],
   "source": [
    "head(data)"
   ]
  },
  {
   "cell_type": "code",
   "execution_count": 9,
   "metadata": {},
   "outputs": [],
   "source": [
    "largest<-arrange(data,desc(total))"
   ]
  },
  {
   "cell_type": "code",
   "execution_count": 42,
   "metadata": {},
   "outputs": [
    {
     "data": {
      "text/html": [
       "<table>\n",
       "<thead><tr><th scope=col>year</th><th scope=col>destination</th><th scope=col>origin</th><th scope=col>refuge</th><th scope=col>asylum</th><th scope=col>total</th></tr></thead>\n",
       "<tbody>\n",
       "\t<tr><td>2018                              </td><td>Mexico                            </td><td>Honduras                          </td><td>4656                              </td><td>10569                             </td><td>15225                             </td></tr>\n",
       "\t<tr><td>2018                              </td><td>Mexico                            </td><td>Venezuela (Bolivarian Republic of)</td><td>4721                              </td><td> 5523                             </td><td>10244                             </td></tr>\n",
       "\t<tr><td>2018                              </td><td>Mexico                            </td><td>El Salvador                       </td><td>5155                              </td><td> 4527                             </td><td> 9682                             </td></tr>\n",
       "\t<tr><td>2017                              </td><td>Mexico                            </td><td>Honduras                          </td><td>2895                              </td><td> 2983                             </td><td> 5878                             </td></tr>\n",
       "\t<tr><td>2017                              </td><td>Mexico                            </td><td>El Salvador                       </td><td>3332                              </td><td> 2418                             </td><td> 5750                             </td></tr>\n",
       "\t<tr><td>2017                              </td><td>Mexico                            </td><td>Venezuela (Bolivarian Republic of)</td><td>1185                              </td><td> 3183                             </td><td> 4368                             </td></tr>\n",
       "\t<tr><td>2016                              </td><td>Mexico                            </td><td>Honduras                          </td><td>2126                              </td><td> 1022                             </td><td> 3148                             </td></tr>\n",
       "\t<tr><td>2016                              </td><td>Mexico                            </td><td>El Salvador                       </td><td>2366                              </td><td>  764                             </td><td> 3130                             </td></tr>\n",
       "\t<tr><td>2018                              </td><td>Mexico                            </td><td>Guatemala                         </td><td> 847                              </td><td> 1039                             </td><td> 1886                             </td></tr>\n",
       "\t<tr><td>2014                              </td><td>Mexico                            </td><td>Honduras                          </td><td> 288                              </td><td> 1247                             </td><td> 1535                             </td></tr>\n",
       "</tbody>\n",
       "</table>\n"
      ],
      "text/latex": [
       "\\begin{tabular}{r|llllll}\n",
       " year & destination & origin & refuge & asylum & total\\\\\n",
       "\\hline\n",
       "\t 2018                               & Mexico                             & Honduras                           & 4656                               & 10569                              & 15225                             \\\\\n",
       "\t 2018                               & Mexico                             & Venezuela (Bolivarian Republic of) & 4721                               &  5523                              & 10244                             \\\\\n",
       "\t 2018                               & Mexico                             & El Salvador                        & 5155                               &  4527                              &  9682                             \\\\\n",
       "\t 2017                               & Mexico                             & Honduras                           & 2895                               &  2983                              &  5878                             \\\\\n",
       "\t 2017                               & Mexico                             & El Salvador                        & 3332                               &  2418                              &  5750                             \\\\\n",
       "\t 2017                               & Mexico                             & Venezuela (Bolivarian Republic of) & 1185                               &  3183                              &  4368                             \\\\\n",
       "\t 2016                               & Mexico                             & Honduras                           & 2126                               &  1022                              &  3148                             \\\\\n",
       "\t 2016                               & Mexico                             & El Salvador                        & 2366                               &   764                              &  3130                             \\\\\n",
       "\t 2018                               & Mexico                             & Guatemala                          &  847                               &  1039                              &  1886                             \\\\\n",
       "\t 2014                               & Mexico                             & Honduras                           &  288                               &  1247                              &  1535                             \\\\\n",
       "\\end{tabular}\n"
      ],
      "text/markdown": [
       "\n",
       "year | destination | origin | refuge | asylum | total | \n",
       "|---|---|---|---|---|---|---|---|---|---|\n",
       "| 2018                               | Mexico                             | Honduras                           | 4656                               | 10569                              | 15225                              | \n",
       "| 2018                               | Mexico                             | Venezuela (Bolivarian Republic of) | 4721                               |  5523                              | 10244                              | \n",
       "| 2018                               | Mexico                             | El Salvador                        | 5155                               |  4527                              |  9682                              | \n",
       "| 2017                               | Mexico                             | Honduras                           | 2895                               |  2983                              |  5878                              | \n",
       "| 2017                               | Mexico                             | El Salvador                        | 3332                               |  2418                              |  5750                              | \n",
       "| 2017                               | Mexico                             | Venezuela (Bolivarian Republic of) | 1185                               |  3183                              |  4368                              | \n",
       "| 2016                               | Mexico                             | Honduras                           | 2126                               |  1022                              |  3148                              | \n",
       "| 2016                               | Mexico                             | El Salvador                        | 2366                               |   764                              |  3130                              | \n",
       "| 2018                               | Mexico                             | Guatemala                          |  847                               |  1039                              |  1886                              | \n",
       "| 2014                               | Mexico                             | Honduras                           |  288                               |  1247                              |  1535                              | \n",
       "\n",
       "\n"
      ],
      "text/plain": [
       "   year destination origin                             refuge asylum total\n",
       "1  2018 Mexico      Honduras                           4656   10569  15225\n",
       "2  2018 Mexico      Venezuela (Bolivarian Republic of) 4721    5523  10244\n",
       "3  2018 Mexico      El Salvador                        5155    4527   9682\n",
       "4  2017 Mexico      Honduras                           2895    2983   5878\n",
       "5  2017 Mexico      El Salvador                        3332    2418   5750\n",
       "6  2017 Mexico      Venezuela (Bolivarian Republic of) 1185    3183   4368\n",
       "7  2016 Mexico      Honduras                           2126    1022   3148\n",
       "8  2016 Mexico      El Salvador                        2366     764   3130\n",
       "9  2018 Mexico      Guatemala                           847    1039   1886\n",
       "10 2014 Mexico      Honduras                            288    1247   1535"
      ]
     },
     "metadata": {},
     "output_type": "display_data"
    }
   ],
   "source": [
    "mex<-filter(largest,destination==\"Mexico\")\n",
    "head(mex,10)"
   ]
  },
  {
   "cell_type": "code",
   "execution_count": 10,
   "metadata": {},
   "outputs": [
    {
     "data": {
      "text/html": [
       "<table>\n",
       "<thead><tr><th scope=col>year</th><th scope=col>destination</th><th scope=col>origin</th><th scope=col>refuge</th><th scope=col>asylum</th><th scope=col>total</th></tr></thead>\n",
       "<tbody>\n",
       "\t<tr><td>2018                  </td><td>Turkey                </td><td>Syrian Arab Rep.      </td><td>3622366               </td><td> 112                  </td><td>3622478               </td></tr>\n",
       "\t<tr><td>2017                  </td><td>Turkey                </td><td>Syrian Arab Rep.      </td><td>3424237               </td><td> 163                  </td><td>3424400               </td></tr>\n",
       "\t<tr><td>2016                  </td><td>Turkey                </td><td>Syrian Arab Rep.      </td><td>2823987               </td><td> 180                  </td><td>2824167               </td></tr>\n",
       "\t<tr><td>2015                  </td><td>Turkey                </td><td>Syrian Arab Rep.      </td><td>2503549               </td><td> 297                  </td><td>2503846               </td></tr>\n",
       "\t<tr><td>2010                  </td><td>Pakistan              </td><td>Afghanistan           </td><td>1899842               </td><td>1946                  </td><td>1901788               </td></tr>\n",
       "\t<tr><td>2011                  </td><td>Pakistan              </td><td>Afghanistan           </td><td>1701945               </td><td>1543                  </td><td>1703488               </td></tr>\n",
       "\t<tr><td>2012                  </td><td>Pakistan              </td><td>Afghanistan           </td><td>1637740               </td><td>3220                  </td><td>1640960               </td></tr>\n",
       "\t<tr><td>2013                  </td><td>Pakistan              </td><td>Afghanistan           </td><td>1615876               </td><td>5323                  </td><td>1621199               </td></tr>\n",
       "\t<tr><td>2015                  </td><td>Pakistan              </td><td>Afghanistan           </td><td>1560592               </td><td>6358                  </td><td>1566950               </td></tr>\n",
       "\t<tr><td>2014                  </td><td>Turkey                </td><td>Syrian Arab Rep.      </td><td>1557899               </td><td> 250                  </td><td>1558149               </td></tr>\n",
       "\t<tr><td>2014                  </td><td>Pakistan              </td><td>Afghanistan           </td><td>1504912               </td><td>5460                  </td><td>1510372               </td></tr>\n",
       "\t<tr><td>2018                  </td><td>Pakistan              </td><td>Afghanistan           </td><td>1403521               </td><td>5012                  </td><td>1408533               </td></tr>\n",
       "\t<tr><td>2017                  </td><td>Pakistan              </td><td>Afghanistan           </td><td>1392610               </td><td>3241                  </td><td>1395851               </td></tr>\n",
       "\t<tr><td>2016                  </td><td>Pakistan              </td><td>Afghanistan           </td><td>1352160               </td><td>4447                  </td><td>1356607               </td></tr>\n",
       "\t<tr><td>2014                  </td><td>Lebanon               </td><td>Syrian Arab Rep.      </td><td>1147494               </td><td> 417                  </td><td>1147911               </td></tr>\n",
       "\t<tr><td>2015                  </td><td>Lebanon               </td><td>Syrian Arab Rep.      </td><td>1062690               </td><td>  15                  </td><td>1062705               </td></tr>\n",
       "\t<tr><td>2017                  </td><td>Uganda                </td><td>South Sudan           </td><td>1037412               </td><td> 486                  </td><td>1037898               </td></tr>\n",
       "\t<tr><td>2010                  </td><td>Iran (Islamic Rep. of)</td><td>Afghanistan           </td><td>1027577               </td><td>1639                  </td><td>1029216               </td></tr>\n",
       "\t<tr><td>2016                  </td><td>Lebanon               </td><td>Syrian Arab Rep.      </td><td>1005503               </td><td>  10                  </td><td>1005513               </td></tr>\n",
       "\t<tr><td>2010                  </td><td>Syrian Arab Rep.      </td><td>Iraq                  </td><td>1000000               </td><td> 623                  </td><td>1000623               </td></tr>\n",
       "</tbody>\n",
       "</table>\n"
      ],
      "text/latex": [
       "\\begin{tabular}{r|llllll}\n",
       " year & destination & origin & refuge & asylum & total\\\\\n",
       "\\hline\n",
       "\t 2018                   & Turkey                 & Syrian Arab Rep.       & 3622366                &  112                   & 3622478               \\\\\n",
       "\t 2017                   & Turkey                 & Syrian Arab Rep.       & 3424237                &  163                   & 3424400               \\\\\n",
       "\t 2016                   & Turkey                 & Syrian Arab Rep.       & 2823987                &  180                   & 2824167               \\\\\n",
       "\t 2015                   & Turkey                 & Syrian Arab Rep.       & 2503549                &  297                   & 2503846               \\\\\n",
       "\t 2010                   & Pakistan               & Afghanistan            & 1899842                & 1946                   & 1901788               \\\\\n",
       "\t 2011                   & Pakistan               & Afghanistan            & 1701945                & 1543                   & 1703488               \\\\\n",
       "\t 2012                   & Pakistan               & Afghanistan            & 1637740                & 3220                   & 1640960               \\\\\n",
       "\t 2013                   & Pakistan               & Afghanistan            & 1615876                & 5323                   & 1621199               \\\\\n",
       "\t 2015                   & Pakistan               & Afghanistan            & 1560592                & 6358                   & 1566950               \\\\\n",
       "\t 2014                   & Turkey                 & Syrian Arab Rep.       & 1557899                &  250                   & 1558149               \\\\\n",
       "\t 2014                   & Pakistan               & Afghanistan            & 1504912                & 5460                   & 1510372               \\\\\n",
       "\t 2018                   & Pakistan               & Afghanistan            & 1403521                & 5012                   & 1408533               \\\\\n",
       "\t 2017                   & Pakistan               & Afghanistan            & 1392610                & 3241                   & 1395851               \\\\\n",
       "\t 2016                   & Pakistan               & Afghanistan            & 1352160                & 4447                   & 1356607               \\\\\n",
       "\t 2014                   & Lebanon                & Syrian Arab Rep.       & 1147494                &  417                   & 1147911               \\\\\n",
       "\t 2015                   & Lebanon                & Syrian Arab Rep.       & 1062690                &   15                   & 1062705               \\\\\n",
       "\t 2017                   & Uganda                 & South Sudan            & 1037412                &  486                   & 1037898               \\\\\n",
       "\t 2010                   & Iran (Islamic Rep. of) & Afghanistan            & 1027577                & 1639                   & 1029216               \\\\\n",
       "\t 2016                   & Lebanon                & Syrian Arab Rep.       & 1005503                &   10                   & 1005513               \\\\\n",
       "\t 2010                   & Syrian Arab Rep.       & Iraq                   & 1000000                &  623                   & 1000623               \\\\\n",
       "\\end{tabular}\n"
      ],
      "text/markdown": [
       "\n",
       "year | destination | origin | refuge | asylum | total | \n",
       "|---|---|---|---|---|---|---|---|---|---|---|---|---|---|---|---|---|---|---|---|\n",
       "| 2018                   | Turkey                 | Syrian Arab Rep.       | 3622366                |  112                   | 3622478                | \n",
       "| 2017                   | Turkey                 | Syrian Arab Rep.       | 3424237                |  163                   | 3424400                | \n",
       "| 2016                   | Turkey                 | Syrian Arab Rep.       | 2823987                |  180                   | 2824167                | \n",
       "| 2015                   | Turkey                 | Syrian Arab Rep.       | 2503549                |  297                   | 2503846                | \n",
       "| 2010                   | Pakistan               | Afghanistan            | 1899842                | 1946                   | 1901788                | \n",
       "| 2011                   | Pakistan               | Afghanistan            | 1701945                | 1543                   | 1703488                | \n",
       "| 2012                   | Pakistan               | Afghanistan            | 1637740                | 3220                   | 1640960                | \n",
       "| 2013                   | Pakistan               | Afghanistan            | 1615876                | 5323                   | 1621199                | \n",
       "| 2015                   | Pakistan               | Afghanistan            | 1560592                | 6358                   | 1566950                | \n",
       "| 2014                   | Turkey                 | Syrian Arab Rep.       | 1557899                |  250                   | 1558149                | \n",
       "| 2014                   | Pakistan               | Afghanistan            | 1504912                | 5460                   | 1510372                | \n",
       "| 2018                   | Pakistan               | Afghanistan            | 1403521                | 5012                   | 1408533                | \n",
       "| 2017                   | Pakistan               | Afghanistan            | 1392610                | 3241                   | 1395851                | \n",
       "| 2016                   | Pakistan               | Afghanistan            | 1352160                | 4447                   | 1356607                | \n",
       "| 2014                   | Lebanon                | Syrian Arab Rep.       | 1147494                |  417                   | 1147911                | \n",
       "| 2015                   | Lebanon                | Syrian Arab Rep.       | 1062690                |   15                   | 1062705                | \n",
       "| 2017                   | Uganda                 | South Sudan            | 1037412                |  486                   | 1037898                | \n",
       "| 2010                   | Iran (Islamic Rep. of) | Afghanistan            | 1027577                | 1639                   | 1029216                | \n",
       "| 2016                   | Lebanon                | Syrian Arab Rep.       | 1005503                |   10                   | 1005513                | \n",
       "| 2010                   | Syrian Arab Rep.       | Iraq                   | 1000000                |  623                   | 1000623                | \n",
       "\n",
       "\n"
      ],
      "text/plain": [
       "   year destination            origin           refuge  asylum total  \n",
       "1  2018 Turkey                 Syrian Arab Rep. 3622366  112   3622478\n",
       "2  2017 Turkey                 Syrian Arab Rep. 3424237  163   3424400\n",
       "3  2016 Turkey                 Syrian Arab Rep. 2823987  180   2824167\n",
       "4  2015 Turkey                 Syrian Arab Rep. 2503549  297   2503846\n",
       "5  2010 Pakistan               Afghanistan      1899842 1946   1901788\n",
       "6  2011 Pakistan               Afghanistan      1701945 1543   1703488\n",
       "7  2012 Pakistan               Afghanistan      1637740 3220   1640960\n",
       "8  2013 Pakistan               Afghanistan      1615876 5323   1621199\n",
       "9  2015 Pakistan               Afghanistan      1560592 6358   1566950\n",
       "10 2014 Turkey                 Syrian Arab Rep. 1557899  250   1558149\n",
       "11 2014 Pakistan               Afghanistan      1504912 5460   1510372\n",
       "12 2018 Pakistan               Afghanistan      1403521 5012   1408533\n",
       "13 2017 Pakistan               Afghanistan      1392610 3241   1395851\n",
       "14 2016 Pakistan               Afghanistan      1352160 4447   1356607\n",
       "15 2014 Lebanon                Syrian Arab Rep. 1147494  417   1147911\n",
       "16 2015 Lebanon                Syrian Arab Rep. 1062690   15   1062705\n",
       "17 2017 Uganda                 South Sudan      1037412  486   1037898\n",
       "18 2010 Iran (Islamic Rep. of) Afghanistan      1027577 1639   1029216\n",
       "19 2016 Lebanon                Syrian Arab Rep. 1005503   10   1005513\n",
       "20 2010 Syrian Arab Rep.       Iraq             1000000  623   1000623"
      ]
     },
     "metadata": {},
     "output_type": "display_data"
    }
   ],
   "source": [
    "head(largest,20)"
   ]
  },
  {
   "cell_type": "code",
   "execution_count": 49,
   "metadata": {},
   "outputs": [],
   "source": [
    "topdest<- largest %>% group_by(destination) %>%\n",
    "    summarise(total = sum(total)) %>% arrange(desc(total))"
   ]
  },
  {
   "cell_type": "code",
   "execution_count": 50,
   "metadata": {},
   "outputs": [
    {
     "data": {
      "text/html": [
       "<table>\n",
       "<thead><tr><th scope=col>destination</th><th scope=col>total</th></tr></thead>\n",
       "<tbody>\n",
       "\t<tr><td>Turkey                </td><td>16337850              </td></tr>\n",
       "\t<tr><td>Pakistan              </td><td>14111457              </td></tr>\n",
       "\t<tr><td>Germany               </td><td> 7540571              </td></tr>\n",
       "\t<tr><td>Iran (Islamic Rep. of)</td><td> 6452601              </td></tr>\n",
       "\t<tr><td>Lebanon               </td><td> 6265276              </td></tr>\n",
       "\t<tr><td>Uganda                </td><td> 5281438              </td></tr>\n",
       "</tbody>\n",
       "</table>\n"
      ],
      "text/latex": [
       "\\begin{tabular}{r|ll}\n",
       " destination & total\\\\\n",
       "\\hline\n",
       "\t Turkey                 & 16337850              \\\\\n",
       "\t Pakistan               & 14111457              \\\\\n",
       "\t Germany                &  7540571              \\\\\n",
       "\t Iran (Islamic Rep. of) &  6452601              \\\\\n",
       "\t Lebanon                &  6265276              \\\\\n",
       "\t Uganda                 &  5281438              \\\\\n",
       "\\end{tabular}\n"
      ],
      "text/markdown": [
       "\n",
       "destination | total | \n",
       "|---|---|---|---|---|---|\n",
       "| Turkey                 | 16337850               | \n",
       "| Pakistan               | 14111457               | \n",
       "| Germany                |  7540571               | \n",
       "| Iran (Islamic Rep. of) |  6452601               | \n",
       "| Lebanon                |  6265276               | \n",
       "| Uganda                 |  5281438               | \n",
       "\n",
       "\n"
      ],
      "text/plain": [
       "  destination            total   \n",
       "1 Turkey                 16337850\n",
       "2 Pakistan               14111457\n",
       "3 Germany                 7540571\n",
       "4 Iran (Islamic Rep. of)  6452601\n",
       "5 Lebanon                 6265276\n",
       "6 Uganda                  5281438"
      ]
     },
     "metadata": {},
     "output_type": "display_data"
    }
   ],
   "source": [
    "head(topdest)"
   ]
  },
  {
   "cell_type": "code",
   "execution_count": 11,
   "metadata": {},
   "outputs": [],
   "source": [
    "syriain<-filter(data,destination==\"Syrian Arab Rep.\")\n",
    "syriaout<-filter(data,origin==\"Syrian Arab Rep.\")"
   ]
  },
  {
   "cell_type": "code",
   "execution_count": 12,
   "metadata": {},
   "outputs": [
    {
     "data": {
      "text/html": [
       "<table>\n",
       "<thead><tr><th scope=col>year</th><th scope=col>destination</th><th scope=col>origin</th><th scope=col>refuge</th><th scope=col>asylum</th><th scope=col>total</th></tr></thead>\n",
       "<tbody>\n",
       "\t<tr><td>2010            </td><td>Syrian Arab Rep.</td><td>Iraq            </td><td>1000000         </td><td>  623           </td><td>1000623         </td></tr>\n",
       "\t<tr><td>2011            </td><td>Syrian Arab Rep.</td><td>Iraq            </td><td> 750000         </td><td>  892           </td><td> 750892         </td></tr>\n",
       "\t<tr><td>2012            </td><td>Syrian Arab Rep.</td><td>Iraq            </td><td> 471418         </td><td>  693           </td><td> 472111         </td></tr>\n",
       "\t<tr><td>2014            </td><td>Syrian Arab Rep.</td><td>Iraq            </td><td> 146200         </td><td> 1214           </td><td> 147414         </td></tr>\n",
       "\t<tr><td>2013            </td><td>Syrian Arab Rep.</td><td>Iraq            </td><td> 146200         </td><td>  878           </td><td> 147078         </td></tr>\n",
       "\t<tr><td>2018            </td><td>Syrian Arab Rep.</td><td>Iraq            </td><td>  15699         </td><td>18341           </td><td>  34040         </td></tr>\n",
       "</tbody>\n",
       "</table>\n"
      ],
      "text/latex": [
       "\\begin{tabular}{r|llllll}\n",
       " year & destination & origin & refuge & asylum & total\\\\\n",
       "\\hline\n",
       "\t 2010             & Syrian Arab Rep. & Iraq             & 1000000          &   623            & 1000623         \\\\\n",
       "\t 2011             & Syrian Arab Rep. & Iraq             &  750000          &   892            &  750892         \\\\\n",
       "\t 2012             & Syrian Arab Rep. & Iraq             &  471418          &   693            &  472111         \\\\\n",
       "\t 2014             & Syrian Arab Rep. & Iraq             &  146200          &  1214            &  147414         \\\\\n",
       "\t 2013             & Syrian Arab Rep. & Iraq             &  146200          &   878            &  147078         \\\\\n",
       "\t 2018             & Syrian Arab Rep. & Iraq             &   15699          & 18341            &   34040         \\\\\n",
       "\\end{tabular}\n"
      ],
      "text/markdown": [
       "\n",
       "year | destination | origin | refuge | asylum | total | \n",
       "|---|---|---|---|---|---|\n",
       "| 2010             | Syrian Arab Rep. | Iraq             | 1000000          |   623            | 1000623          | \n",
       "| 2011             | Syrian Arab Rep. | Iraq             |  750000          |   892            |  750892          | \n",
       "| 2012             | Syrian Arab Rep. | Iraq             |  471418          |   693            |  472111          | \n",
       "| 2014             | Syrian Arab Rep. | Iraq             |  146200          |  1214            |  147414          | \n",
       "| 2013             | Syrian Arab Rep. | Iraq             |  146200          |   878            |  147078          | \n",
       "| 2018             | Syrian Arab Rep. | Iraq             |   15699          | 18341            |   34040          | \n",
       "\n",
       "\n"
      ],
      "text/plain": [
       "  year destination      origin refuge  asylum total  \n",
       "1 2010 Syrian Arab Rep. Iraq   1000000   623  1000623\n",
       "2 2011 Syrian Arab Rep. Iraq    750000   892   750892\n",
       "3 2012 Syrian Arab Rep. Iraq    471418   693   472111\n",
       "4 2014 Syrian Arab Rep. Iraq    146200  1214   147414\n",
       "5 2013 Syrian Arab Rep. Iraq    146200   878   147078\n",
       "6 2018 Syrian Arab Rep. Iraq     15699 18341    34040"
      ]
     },
     "metadata": {},
     "output_type": "display_data"
    },
    {
     "data": {
      "text/html": [
       "<table>\n",
       "<thead><tr><th scope=col>year</th><th scope=col>destination</th><th scope=col>origin</th><th scope=col>refuge</th><th scope=col>asylum</th><th scope=col>total</th></tr></thead>\n",
       "<tbody>\n",
       "\t<tr><td>2018            </td><td>Turkey          </td><td>Syrian Arab Rep.</td><td>3622366         </td><td>112             </td><td>3622478         </td></tr>\n",
       "\t<tr><td>2017            </td><td>Turkey          </td><td>Syrian Arab Rep.</td><td>3424237         </td><td>163             </td><td>3424400         </td></tr>\n",
       "\t<tr><td>2016            </td><td>Turkey          </td><td>Syrian Arab Rep.</td><td>2823987         </td><td>180             </td><td>2824167         </td></tr>\n",
       "\t<tr><td>2015            </td><td>Turkey          </td><td>Syrian Arab Rep.</td><td>2503549         </td><td>297             </td><td>2503846         </td></tr>\n",
       "\t<tr><td>2014            </td><td>Turkey          </td><td>Syrian Arab Rep.</td><td>1557899         </td><td>250             </td><td>1558149         </td></tr>\n",
       "\t<tr><td>2014            </td><td>Lebanon         </td><td>Syrian Arab Rep.</td><td>1147494         </td><td>417             </td><td>1147911         </td></tr>\n",
       "</tbody>\n",
       "</table>\n"
      ],
      "text/latex": [
       "\\begin{tabular}{r|llllll}\n",
       " year & destination & origin & refuge & asylum & total\\\\\n",
       "\\hline\n",
       "\t 2018             & Turkey           & Syrian Arab Rep. & 3622366          & 112              & 3622478         \\\\\n",
       "\t 2017             & Turkey           & Syrian Arab Rep. & 3424237          & 163              & 3424400         \\\\\n",
       "\t 2016             & Turkey           & Syrian Arab Rep. & 2823987          & 180              & 2824167         \\\\\n",
       "\t 2015             & Turkey           & Syrian Arab Rep. & 2503549          & 297              & 2503846         \\\\\n",
       "\t 2014             & Turkey           & Syrian Arab Rep. & 1557899          & 250              & 1558149         \\\\\n",
       "\t 2014             & Lebanon          & Syrian Arab Rep. & 1147494          & 417              & 1147911         \\\\\n",
       "\\end{tabular}\n"
      ],
      "text/markdown": [
       "\n",
       "year | destination | origin | refuge | asylum | total | \n",
       "|---|---|---|---|---|---|\n",
       "| 2018             | Turkey           | Syrian Arab Rep. | 3622366          | 112              | 3622478          | \n",
       "| 2017             | Turkey           | Syrian Arab Rep. | 3424237          | 163              | 3424400          | \n",
       "| 2016             | Turkey           | Syrian Arab Rep. | 2823987          | 180              | 2824167          | \n",
       "| 2015             | Turkey           | Syrian Arab Rep. | 2503549          | 297              | 2503846          | \n",
       "| 2014             | Turkey           | Syrian Arab Rep. | 1557899          | 250              | 1558149          | \n",
       "| 2014             | Lebanon          | Syrian Arab Rep. | 1147494          | 417              | 1147911          | \n",
       "\n",
       "\n"
      ],
      "text/plain": [
       "  year destination origin           refuge  asylum total  \n",
       "1 2018 Turkey      Syrian Arab Rep. 3622366 112    3622478\n",
       "2 2017 Turkey      Syrian Arab Rep. 3424237 163    3424400\n",
       "3 2016 Turkey      Syrian Arab Rep. 2823987 180    2824167\n",
       "4 2015 Turkey      Syrian Arab Rep. 2503549 297    2503846\n",
       "5 2014 Turkey      Syrian Arab Rep. 1557899 250    1558149\n",
       "6 2014 Lebanon     Syrian Arab Rep. 1147494 417    1147911"
      ]
     },
     "metadata": {},
     "output_type": "display_data"
    }
   ],
   "source": [
    "head(arrange(syriain,desc(total)))\n",
    "head(arrange(syriaout,desc(total)))"
   ]
  },
  {
   "cell_type": "code",
   "execution_count": 51,
   "metadata": {},
   "outputs": [],
   "source": [
    "fromsyria<-syriaout %>% group_by(destination) %>% ungroup() %>% \n",
    "    select(\"year\",\"destination\",\"total\") %>% arrange(desc(total))"
   ]
  },
  {
   "cell_type": "code",
   "execution_count": 52,
   "metadata": {},
   "outputs": [
    {
     "data": {
      "text/html": [
       "<table>\n",
       "<thead><tr><th scope=col>year</th><th scope=col>destination</th><th scope=col>total</th></tr></thead>\n",
       "<tbody>\n",
       "\t<tr><td>2018   </td><td>Turkey </td><td>3622478</td></tr>\n",
       "\t<tr><td>2017   </td><td>Turkey </td><td>3424400</td></tr>\n",
       "\t<tr><td>2016   </td><td>Turkey </td><td>2824167</td></tr>\n",
       "\t<tr><td>2015   </td><td>Turkey </td><td>2503846</td></tr>\n",
       "\t<tr><td>2014   </td><td>Turkey </td><td>1558149</td></tr>\n",
       "\t<tr><td>2014   </td><td>Lebanon</td><td>1147911</td></tr>\n",
       "</tbody>\n",
       "</table>\n"
      ],
      "text/latex": [
       "\\begin{tabular}{r|lll}\n",
       " year & destination & total\\\\\n",
       "\\hline\n",
       "\t 2018    & Turkey  & 3622478\\\\\n",
       "\t 2017    & Turkey  & 3424400\\\\\n",
       "\t 2016    & Turkey  & 2824167\\\\\n",
       "\t 2015    & Turkey  & 2503846\\\\\n",
       "\t 2014    & Turkey  & 1558149\\\\\n",
       "\t 2014    & Lebanon & 1147911\\\\\n",
       "\\end{tabular}\n"
      ],
      "text/markdown": [
       "\n",
       "year | destination | total | \n",
       "|---|---|---|---|---|---|\n",
       "| 2018    | Turkey  | 3622478 | \n",
       "| 2017    | Turkey  | 3424400 | \n",
       "| 2016    | Turkey  | 2824167 | \n",
       "| 2015    | Turkey  | 2503846 | \n",
       "| 2014    | Turkey  | 1558149 | \n",
       "| 2014    | Lebanon | 1147911 | \n",
       "\n",
       "\n"
      ],
      "text/plain": [
       "  year destination total  \n",
       "1 2018 Turkey      3622478\n",
       "2 2017 Turkey      3424400\n",
       "3 2016 Turkey      2824167\n",
       "4 2015 Turkey      2503846\n",
       "5 2014 Turkey      1558149\n",
       "6 2014 Lebanon     1147911"
      ]
     },
     "metadata": {},
     "output_type": "display_data"
    },
    {
     "data": {
      "text/html": [
       "<ol class=list-inline>\n",
       "\t<li>662</li>\n",
       "\t<li>3</li>\n",
       "</ol>\n"
      ],
      "text/latex": [
       "\\begin{enumerate*}\n",
       "\\item 662\n",
       "\\item 3\n",
       "\\end{enumerate*}\n"
      ],
      "text/markdown": [
       "1. 662\n",
       "2. 3\n",
       "\n",
       "\n"
      ],
      "text/plain": [
       "[1] 662   3"
      ]
     },
     "metadata": {},
     "output_type": "display_data"
    }
   ],
   "source": [
    "head(fromsyria)\n",
    "dim(fromsyria)"
   ]
  },
  {
   "cell_type": "code",
   "execution_count": 56,
   "metadata": {},
   "outputs": [
    {
     "data": {
      "text/html": [
       "<table>\n",
       "<thead><tr><th scope=col>destination</th><th scope=col>total</th></tr></thead>\n",
       "<tbody>\n",
       "\t<tr><td>Turkey     </td><td>14767715   </td></tr>\n",
       "\t<tr><td>Lebanon    </td><td> 6131942   </td></tr>\n",
       "\t<tr><td>Germany    </td><td> 1979434   </td></tr>\n",
       "\t<tr><td>Iraq       </td><td>  517101   </td></tr>\n",
       "\t<tr><td>Sweden     </td><td>  515954   </td></tr>\n",
       "\t<tr><td>Jordan     </td><td>  242585   </td></tr>\n",
       "\t<tr><td>Austria    </td><td>  193413   </td></tr>\n",
       "\t<tr><td>Netherlands</td><td>  138890   </td></tr>\n",
       "\t<tr><td>Greece     </td><td>  107508   </td></tr>\n",
       "\t<tr><td>Denmark    </td><td>   88552   </td></tr>\n",
       "</tbody>\n",
       "</table>\n"
      ],
      "text/latex": [
       "\\begin{tabular}{r|ll}\n",
       " destination & total\\\\\n",
       "\\hline\n",
       "\t Turkey      & 14767715   \\\\\n",
       "\t Lebanon     &  6131942   \\\\\n",
       "\t Germany     &  1979434   \\\\\n",
       "\t Iraq        &   517101   \\\\\n",
       "\t Sweden      &   515954   \\\\\n",
       "\t Jordan      &   242585   \\\\\n",
       "\t Austria     &   193413   \\\\\n",
       "\t Netherlands &   138890   \\\\\n",
       "\t Greece      &   107508   \\\\\n",
       "\t Denmark     &    88552   \\\\\n",
       "\\end{tabular}\n"
      ],
      "text/markdown": [
       "\n",
       "destination | total | \n",
       "|---|---|---|---|---|---|---|---|---|---|\n",
       "| Turkey      | 14767715    | \n",
       "| Lebanon     |  6131942    | \n",
       "| Germany     |  1979434    | \n",
       "| Iraq        |   517101    | \n",
       "| Sweden      |   515954    | \n",
       "| Jordan      |   242585    | \n",
       "| Austria     |   193413    | \n",
       "| Netherlands |   138890    | \n",
       "| Greece      |   107508    | \n",
       "| Denmark     |    88552    | \n",
       "\n",
       "\n"
      ],
      "text/plain": [
       "   destination total   \n",
       "1  Turkey      14767715\n",
       "2  Lebanon      6131942\n",
       "3  Germany      1979434\n",
       "4  Iraq          517101\n",
       "5  Sweden        515954\n",
       "6  Jordan        242585\n",
       "7  Austria       193413\n",
       "8  Netherlands   138890\n",
       "9  Greece        107508\n",
       "10 Denmark        88552"
      ]
     },
     "metadata": {},
     "output_type": "display_data"
    }
   ],
   "source": [
    "head(group_by(fromsyria, destination) %>% summarise(total = sum(total)) %>% arrange(desc(total)),10)"
   ]
  },
  {
   "cell_type": "code",
   "execution_count": null,
   "metadata": {},
   "outputs": [],
   "source": []
  },
  {
   "cell_type": "code",
   "execution_count": null,
   "metadata": {},
   "outputs": [],
   "source": []
  },
  {
   "cell_type": "code",
   "execution_count": 15,
   "metadata": {},
   "outputs": [],
   "source": [
    "data2 <- data %>% group_by(destination,origin) "
   ]
  },
  {
   "cell_type": "code",
   "execution_count": 16,
   "metadata": {},
   "outputs": [
    {
     "data": {
      "text/html": [
       "<table>\n",
       "<thead><tr><th scope=col>year</th><th scope=col>destination</th><th scope=col>origin</th><th scope=col>refuge</th><th scope=col>asylum</th><th scope=col>total</th></tr></thead>\n",
       "<tbody>\n",
       "\t<tr><td>2010                  </td><td>Afghanistan           </td><td>Iran (Islamic Rep. of)</td><td>   30                 </td><td>  21                  </td><td>   51                 </td></tr>\n",
       "\t<tr><td>2010                  </td><td>Afghanistan           </td><td>Pakistan              </td><td> 6398                 </td><td>   9                  </td><td> 6407                 </td></tr>\n",
       "\t<tr><td>2010                  </td><td>Angola                </td><td>Burundi               </td><td>   14                 </td><td>  13                  </td><td>   27                 </td></tr>\n",
       "\t<tr><td>2010                  </td><td>Angola                </td><td>Central African Rep.  </td><td>    6                 </td><td>   1                  </td><td>    7                 </td></tr>\n",
       "\t<tr><td>2010                  </td><td>Angola                </td><td>Côte d'Ivoire         </td><td>  211                 </td><td>1213                  </td><td> 1424                 </td></tr>\n",
       "\t<tr><td>2010                  </td><td>Angola                </td><td>Dem. Rep. of the Congo</td><td>13648                 </td><td>1508                  </td><td>15156                 </td></tr>\n",
       "</tbody>\n",
       "</table>\n"
      ],
      "text/latex": [
       "\\begin{tabular}{r|llllll}\n",
       " year & destination & origin & refuge & asylum & total\\\\\n",
       "\\hline\n",
       "\t 2010                   & Afghanistan            & Iran (Islamic Rep. of) &    30                  &   21                   &    51                 \\\\\n",
       "\t 2010                   & Afghanistan            & Pakistan               &  6398                  &    9                   &  6407                 \\\\\n",
       "\t 2010                   & Angola                 & Burundi                &    14                  &   13                   &    27                 \\\\\n",
       "\t 2010                   & Angola                 & Central African Rep.   &     6                  &    1                   &     7                 \\\\\n",
       "\t 2010                   & Angola                 & Côte d'Ivoire          &   211                  & 1213                   &  1424                 \\\\\n",
       "\t 2010                   & Angola                 & Dem. Rep. of the Congo & 13648                  & 1508                   & 15156                 \\\\\n",
       "\\end{tabular}\n"
      ],
      "text/markdown": [
       "\n",
       "year | destination | origin | refuge | asylum | total | \n",
       "|---|---|---|---|---|---|\n",
       "| 2010                   | Afghanistan            | Iran (Islamic Rep. of) |    30                  |   21                   |    51                  | \n",
       "| 2010                   | Afghanistan            | Pakistan               |  6398                  |    9                   |  6407                  | \n",
       "| 2010                   | Angola                 | Burundi                |    14                  |   13                   |    27                  | \n",
       "| 2010                   | Angola                 | Central African Rep.   |     6                  |    1                   |     7                  | \n",
       "| 2010                   | Angola                 | Côte d'Ivoire          |   211                  | 1213                   |  1424                  | \n",
       "| 2010                   | Angola                 | Dem. Rep. of the Congo | 13648                  | 1508                   | 15156                  | \n",
       "\n",
       "\n"
      ],
      "text/plain": [
       "  year destination origin                 refuge asylum total\n",
       "1 2010 Afghanistan Iran (Islamic Rep. of)    30    21      51\n",
       "2 2010 Afghanistan Pakistan                6398     9    6407\n",
       "3 2010 Angola      Burundi                   14    13      27\n",
       "4 2010 Angola      Central African Rep.       6     1       7\n",
       "5 2010 Angola      Côte d'Ivoire            211  1213    1424\n",
       "6 2010 Angola      Dem. Rep. of the Congo 13648  1508   15156"
      ]
     },
     "metadata": {},
     "output_type": "display_data"
    }
   ],
   "source": [
    "head(data2)"
   ]
  },
  {
   "cell_type": "code",
   "execution_count": 17,
   "metadata": {},
   "outputs": [],
   "source": [
    "data2 <- ungroup(data2)\n",
    "\n",
    "destinations <- select(data2,destination)\n",
    "origins <- select(data2,origin)\n",
    "\n",
    "destinationdf <- distinct(as.data.frame(destinations))\n",
    "origindf <- distinct(as.data.frame(origins))"
   ]
  },
  {
   "cell_type": "code",
   "execution_count": 18,
   "metadata": {},
   "outputs": [
    {
     "data": {
      "text/html": [
       "<table>\n",
       "<thead><tr><th scope=col>origin</th></tr></thead>\n",
       "<tbody>\n",
       "\t<tr><td>Iran (Islamic Rep. of)</td></tr>\n",
       "\t<tr><td>Pakistan              </td></tr>\n",
       "\t<tr><td>Burundi               </td></tr>\n",
       "\t<tr><td>Central African Rep.  </td></tr>\n",
       "\t<tr><td>Côte d'Ivoire         </td></tr>\n",
       "\t<tr><td>Dem. Rep. of the Congo</td></tr>\n",
       "</tbody>\n",
       "</table>\n"
      ],
      "text/latex": [
       "\\begin{tabular}{r|l}\n",
       " origin\\\\\n",
       "\\hline\n",
       "\t Iran (Islamic Rep. of)\\\\\n",
       "\t Pakistan              \\\\\n",
       "\t Burundi               \\\\\n",
       "\t Central African Rep.  \\\\\n",
       "\t Côte d'Ivoire         \\\\\n",
       "\t Dem. Rep. of the Congo\\\\\n",
       "\\end{tabular}\n"
      ],
      "text/markdown": [
       "\n",
       "origin | \n",
       "|---|---|---|---|---|---|\n",
       "| Iran (Islamic Rep. of) | \n",
       "| Pakistan               | \n",
       "| Burundi                | \n",
       "| Central African Rep.   | \n",
       "| Côte d'Ivoire          | \n",
       "| Dem. Rep. of the Congo | \n",
       "\n",
       "\n"
      ],
      "text/plain": [
       "  origin                \n",
       "1 Iran (Islamic Rep. of)\n",
       "2 Pakistan              \n",
       "3 Burundi               \n",
       "4 Central African Rep.  \n",
       "5 Côte d'Ivoire         \n",
       "6 Dem. Rep. of the Congo"
      ]
     },
     "metadata": {},
     "output_type": "display_data"
    },
    {
     "data": {
      "text/html": [
       "<ol class=list-inline>\n",
       "\t<li>195</li>\n",
       "\t<li>1</li>\n",
       "</ol>\n"
      ],
      "text/latex": [
       "\\begin{enumerate*}\n",
       "\\item 195\n",
       "\\item 1\n",
       "\\end{enumerate*}\n"
      ],
      "text/markdown": [
       "1. 195\n",
       "2. 1\n",
       "\n",
       "\n"
      ],
      "text/plain": [
       "[1] 195   1"
      ]
     },
     "metadata": {},
     "output_type": "display_data"
    },
    {
     "data": {
      "text/html": [
       "<strong>$destination</strong> = 'character'"
      ],
      "text/latex": [
       "\\textbf{\\$destination} = 'character'"
      ],
      "text/markdown": [
       "**$destination** = 'character'"
      ],
      "text/plain": [
       "$destination\n",
       "[1] \"character\"\n"
      ]
     },
     "metadata": {},
     "output_type": "display_data"
    }
   ],
   "source": [
    "head(origindf)\n",
    "dim(origindf)\n",
    "lapply(destinationdf,class)"
   ]
  },
  {
   "cell_type": "code",
   "execution_count": 19,
   "metadata": {},
   "outputs": [
    {
     "data": {
      "text/html": [
       "<table>\n",
       "<thead><tr><th scope=col>destination</th></tr></thead>\n",
       "<tbody>\n",
       "\t<tr><td>Afghanistan         </td></tr>\n",
       "\t<tr><td>Angola              </td></tr>\n",
       "\t<tr><td>Albania             </td></tr>\n",
       "\t<tr><td>United Arab Emirates</td></tr>\n",
       "\t<tr><td>Argentina           </td></tr>\n",
       "\t<tr><td>Armenia             </td></tr>\n",
       "</tbody>\n",
       "</table>\n"
      ],
      "text/latex": [
       "\\begin{tabular}{r|l}\n",
       " destination\\\\\n",
       "\\hline\n",
       "\t Afghanistan         \\\\\n",
       "\t Angola              \\\\\n",
       "\t Albania             \\\\\n",
       "\t United Arab Emirates\\\\\n",
       "\t Argentina           \\\\\n",
       "\t Armenia             \\\\\n",
       "\\end{tabular}\n"
      ],
      "text/markdown": [
       "\n",
       "destination | \n",
       "|---|---|---|---|---|---|\n",
       "| Afghanistan          | \n",
       "| Angola               | \n",
       "| Albania              | \n",
       "| United Arab Emirates | \n",
       "| Argentina            | \n",
       "| Armenia              | \n",
       "\n",
       "\n"
      ],
      "text/plain": [
       "  destination         \n",
       "1 Afghanistan         \n",
       "2 Angola              \n",
       "3 Albania             \n",
       "4 United Arab Emirates\n",
       "5 Argentina           \n",
       "6 Armenia             "
      ]
     },
     "metadata": {},
     "output_type": "display_data"
    },
    {
     "data": {
      "text/html": [
       "<ol class=list-inline>\n",
       "\t<li>167</li>\n",
       "\t<li>1</li>\n",
       "</ol>\n"
      ],
      "text/latex": [
       "\\begin{enumerate*}\n",
       "\\item 167\n",
       "\\item 1\n",
       "\\end{enumerate*}\n"
      ],
      "text/markdown": [
       "1. 167\n",
       "2. 1\n",
       "\n",
       "\n"
      ],
      "text/plain": [
       "[1] 167   1"
      ]
     },
     "metadata": {},
     "output_type": "display_data"
    },
    {
     "data": {
      "text/html": [
       "'data.frame'"
      ],
      "text/latex": [
       "'data.frame'"
      ],
      "text/markdown": [
       "'data.frame'"
      ],
      "text/plain": [
       "[1] \"data.frame\""
      ]
     },
     "metadata": {},
     "output_type": "display_data"
    },
    {
     "data": {
      "text/html": [
       "<strong>$destination</strong> = 'character'"
      ],
      "text/latex": [
       "\\textbf{\\$destination} = 'character'"
      ],
      "text/markdown": [
       "**$destination** = 'character'"
      ],
      "text/plain": [
       "$destination\n",
       "[1] \"character\"\n"
      ]
     },
     "metadata": {},
     "output_type": "display_data"
    }
   ],
   "source": [
    "head(destinationdf)\n",
    "dim(destinationdf)\n",
    "class(destinationdf)\n",
    "lapply(destinationdf,class)"
   ]
  },
  {
   "cell_type": "code",
   "execution_count": 20,
   "metadata": {},
   "outputs": [
    {
     "ename": "ERROR",
     "evalue": "Error in geocode(locs, ...): is.character(location) is not TRUE\n",
     "output_type": "error",
     "traceback": [
      "Error in geocode(locs, ...): is.character(location) is not TRUE\nTraceback:\n",
      "1. mutate_geocode(destinationdf, place)",
      "2. geocode(locs, ...)",
      "3. stopifnot(is.character(location))"
     ]
    }
   ],
   "source": [
    "locationsddf <- mutate_geocode(destinationdf, place)"
   ]
  },
  {
   "cell_type": "code",
   "execution_count": null,
   "metadata": {},
   "outputs": [],
   "source": [
    "locationsodf <- mutate_geocode(origindf, place)"
   ]
  },
  {
   "cell_type": "code",
   "execution_count": null,
   "metadata": {},
   "outputs": [],
   "source": []
  },
  {
   "cell_type": "code",
   "execution_count": null,
   "metadata": {},
   "outputs": [],
   "source": []
  },
  {
   "cell_type": "code",
   "execution_count": 58,
   "metadata": {},
   "outputs": [
    {
     "name": "stderr",
     "output_type": "stream",
     "text": [
      "Installing package into ‘/home/jupyter/R/x86_64-pc-linux-gnu-library/3.5’\n",
      "(as ‘lib’ is unspecified)\n",
      "also installing the dependencies ‘truncnorm’, ‘cmm’, ‘Rsolnp’, ‘mipfp’\n",
      "\n"
     ]
    }
   ],
   "source": [
    "install.packages(\"migest\")\n",
    "install.packages(\"circlize\")"
   ]
  },
  {
   "cell_type": "code",
   "execution_count": 61,
   "metadata": {},
   "outputs": [
    {
     "name": "stderr",
     "output_type": "stream",
     "text": [
      "Installing package into ‘/home/jupyter/R/x86_64-pc-linux-gnu-library/3.5’\n",
      "(as ‘lib’ is unspecified)\n"
     ]
    }
   ],
   "source": [
    "install.packages(\"tidyr\")"
   ]
  },
  {
   "cell_type": "code",
   "execution_count": 59,
   "metadata": {},
   "outputs": [
    {
     "name": "stdout",
     "output_type": "stream",
     "text": [
      "\n",
      "\n",
      "\tdemo(cfplot_reg)\n",
      "\t---- ~~~~~~~~~~\n",
      "\n",
      "> ##\n",
      "> ##install packages if not already done so (uncomment)\n",
      "> ##\n",
      "> # install.packages(\"circlize\")\n",
      "> # install.packages(\"dplyr\")\n",
      "> # install.packages(\"tidyr\")\n",
      "> \n",
      "> ##\n",
      "> ##read in table and define matrix (m) and reference data.frame (df1)\n",
      "> ##\n",
      "> df0 <- read.table(system.file(\"science\", \"region_custom.txt\", package = \"migest\"), skip=2, stringsAsFactors=FALSE)\n",
      "\n",
      "> #select and rename labels\n",
      "> library(\"dplyr\")\n",
      "\n",
      "> df1 <- df0 %>% select(1:3) %>% rename(order = V1, rgb = V2, region = V3) %>% mutate(region = gsub(\"_\", \" \", region))\n",
      "\n",
      "> #flow matrix\n",
      "> m <- as.matrix(df0[,-(1:3)]/1e06)\n",
      "\n",
      "> dimnames(m) <- list(orig = df1$region, dest = df1$region)\n",
      "\n",
      "> #drop small flows\n",
      "> m[m<=quantile(m,0.65)]<-0\n",
      "\n",
      "> #sort regions and create colours\n",
      "> library(\"tidyr\")\n",
      "\n",
      "> df1 <- df1 %>% arrange(order) %>% separate(rgb, c(\"r\",\"g\",\"b\")) %>% \n",
      "+   mutate(col = rgb(r, g, b, max=255), max = rowSums(m)+colSums(m))\n",
      "\n",
      "> #plot using chordDiagram\n",
      "> library(\"circlize\")\n"
     ]
    },
    {
     "ename": "ERROR",
     "evalue": "Error in library(\"circlize\"): there is no package called ‘circlize’\n",
     "output_type": "error",
     "traceback": [
      "Error in library(\"circlize\"): there is no package called ‘circlize’\nTraceback:\n",
      "1. demo(cfplot_reg, package = \"migest\", ask = FALSE)",
      "2. source(available, echo = echo, max.deparse.length = Inf, keep.source = TRUE, \n .     encoding = encoding)",
      "3. withVisible(eval(ei, envir))",
      "4. eval(ei, envir)",
      "5. eval(ei, envir)",
      "6. library(\"circlize\")   # at line 29 of file /home/jupyter/R/x86_64-pc-linux-gnu-library/3.5/migest/demo/cfplot_reg.R",
      "7. stop(txt, domain = NA)"
     ]
    }
   ],
   "source": [
    "library(circlize)\n",
    "library(migest)\n",
    "librarY(tidyr)\n",
    "demo(cfplot_reg, package = \"migest\", ask = FALSE)"
   ]
  },
  {
   "cell_type": "code",
   "execution_count": null,
   "metadata": {},
   "outputs": [],
   "source": []
  }
 ],
 "metadata": {
  "kernelspec": {
   "display_name": "R",
   "language": "R",
   "name": "ir"
  },
  "language_info": {
   "codemirror_mode": "r",
   "file_extension": ".r",
   "mimetype": "text/x-r-source",
   "name": "R",
   "pygments_lexer": "r",
   "version": "3.5.1"
  }
 },
 "nbformat": 4,
 "nbformat_minor": 2
}
